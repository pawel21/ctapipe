{
 "cells": [
  {
   "cell_type": "code",
   "execution_count": 1,
   "metadata": {},
   "outputs": [],
   "source": [
    "import matplotlib.pyplot as plt\n",
    "import matplotlib\n",
    "import numpy as np\n",
    "import os\n",
    "import struct\n",
    "from ctapipe.io.lsteventsource import LSTEventSource\n",
    "from ctapipe.io import EventSeeker\n",
    "from ctapipe.calib.camera import DragonPedestal"
   ]
  },
  {
   "cell_type": "code",
   "execution_count": 2,
   "metadata": {},
   "outputs": [
    {
     "name": "stderr",
     "output_type": "stream",
     "text": [
      "WARNING:ctapipe.io.eventseeker.EventSeeker:Seeking to event by looping through events... (potentially long process)\n"
     ]
    },
    {
     "name": "stdout",
     "output_type": "stream",
     "text": [
      "numbers of modules:  262\n"
     ]
    }
   ],
   "source": [
    "path_to_data = os.path.join(\"/home\", \"pawel1\", \"Pulpit\", \"Astrophysics\", \"CTA\", \"dragon\",\n",
    "                            \"data\", \"dane_lst\", \"20180705\", \"Date20180705.0000.fits.fz\")\n",
    "\n",
    "reader = LSTEventSource(input_url=path_to_data)\n",
    "seeker = EventSeeker(reader)\n",
    "ev = seeker[0]\n",
    "\n",
    "num_modules = ev.lst.tel[0].svc.num_modules\n",
    "print(\"numbers of modules: \", num_modules)"
   ]
  },
  {
   "cell_type": "markdown",
   "metadata": {},
   "source": [
    "For instance, in this data you have 262 modules and numpy array with first_capacitor have 2096 elements."
   ]
  },
  {
   "cell_type": "code",
   "execution_count": null,
   "metadata": {},
   "outputs": [],
   "source": [
    "cap_data_numbers = ev.lst.tel[0].evt.first_capacitor_id.shape[0]\n",
    "print(cap_data_numbers)\n",
    "cap_data_numbers/num_modules"
   ]
  },
  {
   "cell_type": "markdown",
   "metadata": {},
   "source": [
    "Data order of first capacitor id is the following one due to physical position of DRS4 chip:\n",
    "[FirstCap0(HG0,1)]FirstCap1(LG0,1)][FirstCap2(HG2,3)][FirstCap3(LG2,3)][FirstCap4(HG4,5)][FirstCap5(LG4,5)][FirstCap6(HG6,7)][FirstCap7(LG6,7)]\n",
    "\n",
    "Assume that you want read first capacitors for module 0 "
   ]
  },
  {
   "cell_type": "code",
   "execution_count": null,
   "metadata": {},
   "outputs": [],
   "source": [
    "#fc - first capacitor, hg - high gain, lg - low gain\n",
    "fc = np.zeros((2, 7))\n",
    "hg = 0\n",
    "lg = 1\n",
    "first_cap = ev.lst.tel[0].evt.first_capacitor_id[0:8] # for module 1 you have to use: [8:16] ...\n",
    "fc[hg, 0] = first_cap[0]\n",
    "fc[hg, 1] = first_cap[0]\n",
    "fc[hg, 2] = first_cap[1]\n",
    "fc[hg, 3] = first_cap[1]\n",
    "fc[hg, 4] = first_cap[2]\n",
    "fc[hg, 5] = first_cap[2]\n",
    "fc[hg, 6] = first_cap[3]\n",
    "\n",
    "fc[lg, 0] = first_cap[4]\n",
    "fc[lg, 1] = first_cap[4]\n",
    "fc[lg, 2] = first_cap[5]\n",
    "fc[lg, 3] = first_cap[5]\n",
    "fc[lg, 4] = first_cap[6]\n",
    "fc[lg, 5] = first_cap[6]\n",
    "fc[lg, 6] = first_cap[7]"
   ]
  },
  {
   "cell_type": "code",
   "execution_count": null,
   "metadata": {},
   "outputs": [],
   "source": [
    "print(fc)"
   ]
  },
  {
   "cell_type": "code",
   "execution_count": null,
   "metadata": {},
   "outputs": [],
   "source": [
    "print(\"first cap high gain:\", fc[0, :])\n",
    "print(\"first cap low gain:\", fc[1, :])"
   ]
  },
  {
   "cell_type": "markdown",
   "metadata": {},
   "source": [
    "# Create binary file to substract pedestal"
   ]
  },
  {
   "cell_type": "code",
   "execution_count": null,
   "metadata": {},
   "outputs": [],
   "source": [
    "number_modules = 4\n",
    "ped = DragonPedestal()\n",
    "PedList = []\n",
    "\n",
    "for i in range(0, number_modules):\n",
    "    reader = LSTEventSource(input_url=path_to_data)\n",
    "    seeker = EventSeeker(reader)\n",
    "    PedList.append(DragonPedestal())\n",
    "    for j in range(0, 5000):\n",
    "        ev = seeker[j]\n",
    "        PedList[i].fill_pedestal_event(ev, nr=i)\n",
    "\n",
    "    PedList[i].finalize_pedestal()"
   ]
  },
  {
   "cell_type": "code",
   "execution_count": null,
   "metadata": {},
   "outputs": [],
   "source": [
    "plt.figure()\n",
    "plt.plot(PedList[0].meanped[0, 0,:1024], marker='o')\n",
    "plt.plot(PedList[1].meanped[0, 0,:1024], marker='o')\n",
    "plt.show()"
   ]
  },
  {
   "cell_type": "code",
   "execution_count": null,
   "metadata": {
    "scrolled": true
   },
   "outputs": [],
   "source": [
    "f_out = open('pedestal_value.dat', 'wb')\n",
    "\n",
    "#header\n",
    "f_out.write(struct.pack('>B', 1)) # version 1\n",
    "f_out.write(struct.pack('>H', 7)) #number of pixels\n",
    "f_out.write(struct.pack('>H', 4096)) #number of samples\n",
    "f_out.write(struct.pack('>H', 40)) # RoI\n",
    "\n",
    "#high gain\n",
    "for nr in range(0, number_modules):\n",
    "    for pixel in range(0, 7):\n",
    "        for value in (PedList[nr].meanped[0, pixel, :]):\n",
    "            f_out.write(struct.pack('>H', int(value)))\n",
    "        \n",
    "    # low gain\n",
    "    for pixel in range(0, 7):\n",
    "        for value in (PedList[nr].meanped[1, pixel, :]):\n",
    "            f_out.write(struct.pack('>H', int(value)))\n",
    "\n",
    "f_out.close()        \n",
    "\n",
    "\n",
    "with open(\"pedestal_value.dat\", \"rb\") as binary_file:\n",
    "    # Read the whole file at once\n",
    "    data = binary_file.read()\n",
    "    \n",
    "    version = struct.unpack(\">s\", data[0:1])\n",
    "    print(\"version: \",version)\n",
    "    number_pixels = int.from_bytes(data[1:3], byteorder='big')\n",
    "    print(\"number of pixels: \",number_pixels)\n",
    "    number_samples = int.from_bytes(data[3:5], byteorder='big')\n",
    "    print(\"number of samples: \",number_samples)\n",
    "    RoI = int.from_bytes(data[5:7], byteorder='big')\n",
    "    print(\"RoI: \", RoI)\n",
    "    \n",
    "    for i in range(7, 100, 2):\n",
    "        value = int.from_bytes(data[i:i+2], byteorder='big')\n",
    "        print(value)"
   ]
  },
  {
   "cell_type": "code",
   "execution_count": null,
   "metadata": {},
   "outputs": [],
   "source": [
    "class Event():\n",
    "    def __init__(self):\n",
    "        self.waveform = np.zeros()\n",
    "        self.first_cap = np.zeros()\n",
    "\n",
    "class DRS4Pedestal():\n",
    "    def __init__(self, path_to_file, nr):\n",
    "        self.path = path_to_file\n",
    "        self.nr = nr\n",
    "        self.pedestal_value = np.zeros((self.nr, 2, 7, 4096))\n",
    "    \n",
    "    def read_binary_file(self):\n",
    "        with open(self.path, \"rb\") as binary_file:\n",
    "            # Read the whole file at once\n",
    "            data = binary_file.read()\n",
    "            \n",
    "            pos = 7\n",
    "            for i in range(0, nr+1):\n",
    "                for gain in range(0, 2):\n",
    "                    for pixel in range(0, 7):\n",
    "                        for cap in range(0, 4096):\n",
    "                            value = int.from_bytes(data[pos:pos+2], byteorder='big')\n",
    "                            self.pedestal_value[i, gain, pixel, cap] = value\n",
    "                            pos += 2\n",
    "            "
   ]
  },
  {
   "cell_type": "code",
   "execution_count": null,
   "metadata": {},
   "outputs": [],
   "source": [
    "os.path.getsize(\"pedestal_value.dat\")"
   ]
  },
  {
   "cell_type": "markdown",
   "metadata": {},
   "source": [
    "# Diffrent approach: MyEvent class"
   ]
  },
  {
   "cell_type": "code",
   "execution_count": 6,
   "metadata": {},
   "outputs": [],
   "source": [
    "class DRS4Event():\n",
    "    def __init__(self, num_modules):\n",
    "        self.waveform = np.zeros((num_modules, 2, 7, 40))\n",
    "        self.first_cap = np.zeros((num_modules, 2, 8))\n",
    "        \n",
    "        self.meanped = np.zeros((num_modules, 2, 7, 4096))\n",
    "        self.numped = np.zeros((num_modules, 2, 7, 4096))\n",
    "        self.rms = np.zeros((num_modules, 2, 7, 4096))\n",
    "    \n",
    "    def fill(self, ev):\n",
    "        for nr in range(0, ev.lst.tel[0].svc.num_modules):\n",
    "            self.waveform[nr, :, :, :] = ev.r0.tel[0].waveform[ :,nr * 7:(nr + 1)*7, :]\n",
    "            self.first_cap[nr, :, :] = get_first_capacitor(ev, nr)\n",
    "            \n",
    "    def fill_pedestal_event(self, ev):\n",
    "        size4drs = 4*1024\n",
    "        \n",
    "        for nr in range(0, ev.lst.tel[0].svc.num_modules):\n",
    "            for i in range(0, 2)\n",
    "                for j in range(0, 7):\n",
    "                    for k in range(2, 38):\n",
    "                    \n",
    "        \n",
    "            for j in range(0, self.n_channels):\n",
    "                for k in range(2, self.RoI - 2):\n",
    "                    # for high gain\n",
    "                    position_hg = int((k + event.first_capacitor_high_gain[j]) % self.size4drs)\n",
    "                    self.channel_pedestal_value_high_gain[j, position_hg] += event.samples_high_gain[j, k]\n",
    "                    self.rms_high_gain[j, position_hg] += event.samples_high_gain[j, k]**2\n",
    "                    self.number_of_event_high_gain[j, position_hg] += 1\n",
    "            \n",
    "    def pedestal(self, waveform, fc):\n",
    "         for i in range(0, 2):\n",
    "            for j in range(0, 7):\n",
    "                fc = int(self.first_cap[i, j])\n",
    "                for k in range(2, 38):\n",
    "                    posads = int((k+fc)%self.size4drs)\n",
    "                    val = waveform[i, j, k]\n",
    "                    self.meanped[i, j, posads] += val\n",
    "                    self.numped[i, j, posads] += 1\n",
    "                    self.rms[i, j, posads] += val**2\n",
    "                    \n",
    "def get_first_capacitor(event, nr):\n",
    "    hg = 0\n",
    "    lg = 1\n",
    "    fc = np.zeros((2, 8))\n",
    "    first_cap = event.lst.tel[0].evt.first_capacitor_id[nr * 8:(nr + 1) * 8]\n",
    "    for i, j in zip([0, 1, 2, 3, 4, 5, 6], [0, 0, 1, 1, 2, 2, 3]):\n",
    "        fc[hg, i] = first_cap[j]\n",
    "    for i, j in zip([0, 1, 2, 3, 4, 5, 6], [4, 4, 5, 5, 6, 6, 7]):\n",
    "        fc[lg, i] = first_cap[j]\n",
    "    return fc        \n",
    "        "
   ]
  },
  {
   "cell_type": "code",
   "execution_count": 7,
   "metadata": {
    "scrolled": true
   },
   "outputs": [
    {
     "name": "stderr",
     "output_type": "stream",
     "text": [
      "/home/pawel1/anaconda3/envs/cta-dev/lib/python3.6/site-packages/protozfits/__init__.py:56: UserWarning:         Multiple open zfits files at the same time are not supported.\n",
      "        Reading from mutliple open tables at the same time will reset these\n",
      "        tables continously and you will read always the same events.\n",
      "        \n",
      "  ''')\n",
      "WARNING:ctapipe.io.eventseeker.EventSeeker:Seeking to event by looping through events... (potentially long process)\n"
     ]
    }
   ],
   "source": [
    "reader = LSTEventSource(input_url=path_to_data)\n",
    "seeker = EventSeeker(reader)\n",
    "ev = seeker[0]\n",
    "\n",
    "Ev_drs4 = DRS4Event(ev.lst.tel[0].svc.num_modules)\n",
    "Ev_drs4.fill(ev)"
   ]
  },
  {
   "cell_type": "code",
   "execution_count": 8,
   "metadata": {},
   "outputs": [
    {
     "data": {
      "image/png": "[encoded data removed]",
      "text/plain": [
       "<Figure size 432x288 with 1 Axes>"
      ]
     },
     "metadata": {},
     "output_type": "display_data"
    },
    {
     "data": {
      "text/plain": [
       "[<matplotlib.lines.Line2D at 0x7f7fc1c196d8>]"
      ]
     },
     "execution_count": 8,
     "metadata": {},
     "output_type": "execute_result"
    },
    {
     "data": {
      "image/png": "[encoded data removed]",
      "text/plain": [
       "<Figure size 432x288 with 1 Axes>"
      ]
     },
     "metadata": {},
     "output_type": "display_data"
    }
   ],
   "source": [
    "Ev_drs4.waveform\n",
    "plt.plot(Ev_drs4.waveform[5, 0, 0, :])\n",
    "plt.show()\n",
    "\n",
    "plt.figure()\n",
    "plt.plot(ev.r0.tel[0].waveform[0, 35, :])"
   ]
  },
  {
   "cell_type": "code",
   "execution_count": null,
   "metadata": {},
   "outputs": [],
   "source": [
    "ev.lst.tel[0].evt.first_capacitor_id.shape"
   ]
  },
  {
   "cell_type": "code",
   "execution_count": null,
   "metadata": {},
   "outputs": [],
   "source": [
    "nr = 0\n",
    "gain = 0\n",
    "ev.r0.tel[0].waveform[gain, nr * 7:(nr + 1)*7, :][0]"
   ]
  },
  {
   "cell_type": "code",
   "execution_count": null,
   "metadata": {},
   "outputs": [],
   "source": [
    "ev.r0.tel[0].waveform.shape"
   ]
  },
  {
   "cell_type": "code",
   "execution_count": 9,
   "metadata": {},
   "outputs": [
    {
     "data": {
      "text/plain": [
       "array([[[3074., 3074., 3075., ..., 3074., 3074.,    0.],\n",
       "        [3075., 3075., 3075., ..., 3075., 3075.,    0.]],\n",
       "\n",
       "       [[ 789.,  789.,  786., ...,  782.,  781.,    0.],\n",
       "        [ 785.,  785.,  785., ...,  793.,  785.,    0.]],\n",
       "\n",
       "       [[3834., 3834., 3835., ..., 3834., 3836.,    0.],\n",
       "        [3836., 3836., 3836., ..., 3840., 3835.,    0.]],\n",
       "\n",
       "       ...,\n",
       "\n",
       "       [[ 199.,  199.,  198., ...,  193.,  201.,    0.],\n",
       "        [ 197.,  197.,  195., ...,  197.,  195.,    0.]],\n",
       "\n",
       "       [[2293., 2293., 2287., ..., 2290., 2287.,    0.],\n",
       "        [2292., 2292., 2296., ..., 2286., 2290.,    0.]],\n",
       "\n",
       "       [[2716., 2716., 2718., ..., 2716., 2720.,    0.],\n",
       "        [2715., 2715., 2713., ..., 2719., 2718.,    0.]]])"
      ]
     },
     "execution_count": 9,
     "metadata": {},
     "output_type": "execute_result"
    }
   ],
   "source": [
    "Ev_drs4.first_cap"
   ]
  },
  {
   "cell_type": "code",
   "execution_count": 13,
   "metadata": {},
   "outputs": [
    {
     "name": "stdout",
     "output_type": "stream",
     "text": [
      "[0]\n"
     ]
    }
   ],
   "source": [
    "print(ev.r0.tels_with_data)"
   ]
  },
  {
   "cell_type": "code",
   "execution_count": null,
   "metadata": {},
   "outputs": [],
   "source": []
  }
 ],
 "metadata": {
  "kernelspec": {
   "display_name": "Python 3",
   "language": "python",
   "name": "python3"
  },
  "language_info": {
   "codemirror_mode": {
    "name": "ipython",
    "version": 3
   },
   "file_extension": ".py",
   "mimetype": "text/x-python",
   "name": "python",
   "nbconvert_exporter": "python",
   "pygments_lexer": "ipython3",
   "version": "3.6.4"
  }
 },
 "nbformat": 4,
 "nbformat_minor": 2
}
