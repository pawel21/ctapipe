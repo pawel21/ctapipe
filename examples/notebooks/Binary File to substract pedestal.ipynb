{
 "cells": [
  {
   "cell_type": "code",
   "execution_count": 1,
   "metadata": {},
   "outputs": [],
   "source": [
    "import matplotlib.pyplot as plt\n",
    "import matplotlib\n",
    "import numpy as np\n",
    "import os\n",
    "import struct\n",
    "from ctapipe.io.lsteventsource import LSTEventSource\n",
    "from ctapipe.io import EventSeeker\n",
    "from ctapipe.calib.camera import DRS4Pedestal, remove_pedestal_from_file"
   ]
  },
  {
   "cell_type": "code",
   "execution_count": 2,
   "metadata": {},
   "outputs": [
    {
     "name": "stderr",
     "output_type": "stream",
     "text": [
      "WARNING:ctapipe.io.eventseeker.EventSeeker:Seeking to event by looping through events... (potentially long process)\n"
     ]
    }
   ],
   "source": [
    "path_to_data = os.path.join(\"/home\", \"pawel1\", \"Pulpit\", \"Astrophysics\", \"CTA\", \"dragon\",\n",
    "                            \"data\", \"dane_lst\", \"20180705\", \"Date20180705.0000.fits.fz\")\n",
    "reader = LSTEventSource(input_url=path_to_data)\n",
    "seeker = EventSeeker(reader)\n",
    "ev = seeker[0]\n",
    "number_modules = ev.lst.tel[0].svc.num_modules"
   ]
  },
  {
   "cell_type": "code",
   "execution_count": 3,
   "metadata": {
    "scrolled": true
   },
   "outputs": [
    {
     "name": "stdout",
     "output_type": "stream",
     "text": [
      "shape:  (262, 2, 7, 4096)\n"
     ]
    }
   ],
   "source": [
    "Ped_drs4 = DRS4Pedestal(\"/home/pawel1/Pulpit/Astrophysics/CTA/ctapipe/examples/pedestal_value.dat\", 262)\n",
    "Ped_drs4.read_binary_file()\n",
    "print(\"shape: \", Ped_drs4.pedestal_value.shape)"
   ]
  },
  {
   "cell_type": "code",
   "execution_count": 4,
   "metadata": {},
   "outputs": [
    {
     "name": "stderr",
     "output_type": "stream",
     "text": [
      "/home/pawel1/anaconda3/envs/cta-dev/lib/python3.6/site-packages/protozfits/__init__.py:56: UserWarning:         Multiple open zfits files at the same time are not supported.\n",
      "        Reading from mutliple open tables at the same time will reset these\n",
      "        tables continously and you will read always the same events.\n",
      "        \n",
      "  ''')\n",
      "WARNING:ctapipe.io.eventseeker.EventSeeker:Seeking to event by looping through events... (potentially long process)\n"
     ]
    }
   ],
   "source": [
    "reader = LSTEventSource(input_url=path_to_data)\n",
    "seeker = EventSeeker(reader)\n",
    "ev = seeker[5500]"
   ]
  },
  {
   "cell_type": "code",
   "execution_count": 5,
   "metadata": {},
   "outputs": [],
   "source": [
    "wav_after_remove_pedestal_module0 = remove_pedestal_from_file(ev, Ped_drs4) # remove pedestal for all modules "
   ]
  },
  {
   "cell_type": "code",
   "execution_count": 10,
   "metadata": {},
   "outputs": [
    {
     "data": {
      "image/png": "[encoded data removed]",
      "text/plain": [
       "<Figure size 720x360 with 1 Axes>"
      ]
     },
     "metadata": {},
     "output_type": "display_data"
    }
   ],
   "source": [
    "plt.rcParams['figure.figsize'] = 10, 5\n",
    "nr = 50 #number of module \n",
    "pixel = 6\n",
    "time = np.linspace(2, 37, 36)   \n",
    "plt.step(time, ev.r0.tel[0].waveform[0, nr * 7:(nr + 1) * 7, 2:38][pixel], label=\"before remove pedestal\")\n",
    "plt.step(time, wav_after_remove_pedestal_module0[0, nr * 7:(nr + 1) * 7, 2:38][pixel], 'r-', label=\"after remove pedestal\")\n",
    "plt.plot([0, 40], [300, 300], 'g--', label=\"offset\")\n",
    "plt.ylim([200, 400])\n",
    "plt.legend()\n",
    "plt.grid(True)\n",
    "plt.show()"
   ]
  },
  {
   "cell_type": "code",
   "execution_count": null,
   "metadata": {},
   "outputs": [],
   "source": []
  },
  {
   "cell_type": "code",
   "execution_count": null,
   "metadata": {},
   "outputs": [],
   "source": []
  },
  {
   "cell_type": "code",
   "execution_count": null,
   "metadata": {},
   "outputs": [],
   "source": []
  },
  {
   "cell_type": "code",
   "execution_count": null,
   "metadata": {},
   "outputs": [],
   "source": []
  },
  {
   "cell_type": "code",
   "execution_count": null,
   "metadata": {},
   "outputs": [],
   "source": []
  },
  {
   "cell_type": "code",
   "execution_count": null,
   "metadata": {},
   "outputs": [],
   "source": []
  },
  {
   "cell_type": "code",
   "execution_count": null,
   "metadata": {},
   "outputs": [],
   "source": []
  }
 ],
 "metadata": {
  "kernelspec": {
   "display_name": "Python 3",
   "language": "python",
   "name": "python3"
  },
  "language_info": {
   "codemirror_mode": {
    "name": "ipython",
    "version": 3
   },
   "file_extension": ".py",
   "mimetype": "text/x-python",
   "name": "python",
   "nbconvert_exporter": "python",
   "pygments_lexer": "ipython3",
   "version": "3.6.4"
  }
 },
 "nbformat": 4,
 "nbformat_minor": 2
}
