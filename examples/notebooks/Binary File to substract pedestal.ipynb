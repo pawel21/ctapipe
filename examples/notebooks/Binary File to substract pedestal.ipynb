{
 "cells": [
  {
   "cell_type": "code",
   "execution_count": 3,
   "metadata": {},
   "outputs": [],
   "source": [
    "import matplotlib.pyplot as plt\n",
    "import matplotlib\n",
    "import numpy as np\n",
    "import os\n",
    "import struct\n",
    "from ctapipe.io.lsteventsource import LSTEventSource\n",
    "from ctapipe.io import EventSeeker\n",
    "from ctapipe.calib.camera import DRS4Pedestal, remove_pedestal_from_file"
   ]
  },
  {
   "cell_type": "code",
   "execution_count": 11,
   "metadata": {},
   "outputs": [
    {
     "name": "stderr",
     "output_type": "stream",
     "text": [
      "/home/pawel1/anaconda3/envs/cta-dev/lib/python3.6/site-packages/protozfits/__init__.py:56: UserWarning:         Multiple open zfits files at the same time are not supported.\n",
      "        Reading from mutliple open tables at the same time will reset these\n",
      "        tables continously and you will read always the same events.\n",
      "        \n",
      "  ''')\n",
      "WARNING:ctapipe.io.eventseeker.EventSeeker:Seeking to event by looping through events... (potentially long process)\n"
     ]
    }
   ],
   "source": [
    "path_to_data = os.path.join(\"/home\", \"pawel1\", \"Pulpit\", \"Astrophysics\", \"CTA\", \"dragon\",\n",
    "                            \"data\", \"dane_lst\", \"20180705\", \"Date20180705.0000.fits.fz\")\n",
    "reader = LSTEventSource(input_url=path_to_data)\n",
    "seeker = EventSeeker(reader)\n",
    "ev = seeker[0]\n",
    "number_modules = ev.lst.tel[0].svc.num_modules"
   ]
  },
  {
   "cell_type": "code",
   "execution_count": 13,
   "metadata": {},
   "outputs": [
    {
     "data": {
      "text/plain": [
       "(2, 1834, 40)"
      ]
     },
     "execution_count": 13,
     "metadata": {},
     "output_type": "execute_result"
    }
   ],
   "source": [
    "ev.r0.tel[0].waveform.shape"
   ]
  },
  {
   "cell_type": "code",
   "execution_count": 5,
   "metadata": {
    "scrolled": true
   },
   "outputs": [
    {
     "name": "stdout",
     "output_type": "stream",
     "text": [
      "shape:  (262, 2, 7, 4096)\n"
     ]
    }
   ],
   "source": [
    "Ped_drs4 = DRS4Pedestal(\"/home/pawel1/Pulpit/Astrophysics/CTA/ctapipe/examples/pedestal_value.dat\", 262)\n",
    "Ped_drs4.read_binary_file()\n",
    "print(\"shape: \", Ped_drs4.pedestal_value.shape)"
   ]
  },
  {
   "cell_type": "code",
   "execution_count": 6,
   "metadata": {},
   "outputs": [
    {
     "name": "stderr",
     "output_type": "stream",
     "text": [
      "/home/pawel1/anaconda3/envs/cta-dev/lib/python3.6/site-packages/protozfits/__init__.py:56: UserWarning:         Multiple open zfits files at the same time are not supported.\n",
      "        Reading from mutliple open tables at the same time will reset these\n",
      "        tables continously and you will read always the same events.\n",
      "        \n",
      "  ''')\n",
      "WARNING:ctapipe.io.eventseeker.EventSeeker:Seeking to event by looping through events... (potentially long process)\n"
     ]
    }
   ],
   "source": [
    "reader = LSTEventSource(input_url=path_to_data)\n",
    "seeker = EventSeeker(reader)\n",
    "ev = seeker[5500]"
   ]
  },
  {
   "cell_type": "code",
   "execution_count": 5,
   "metadata": {},
   "outputs": [],
   "source": [
    "wav_after_remove_pedestal_module0 = remove_pedestal_from_file(ev, Ped_drs4) # remove pedestal for all modules "
   ]
  },
  {
   "cell_type": "code",
   "execution_count": 10,
   "metadata": {},
   "outputs": [
    {
     "data": {
      "image/png": "[encoded data removed]",
      "text/plain": [
       "<Figure size 720x360 with 1 Axes>"
      ]
     },
     "metadata": {},
     "output_type": "display_data"
    }
   ],
   "source": [
    "plt.rcParams['figure.figsize'] = 10, 5\n",
    "nr = 50 #number of module \n",
    "pixel = 6\n",
    "time = np.linspace(2, 37, 36)   \n",
    "plt.step(time, ev.r0.tel[0].waveform[0, nr * 7:(nr + 1) * 7, 2:38][pixel], label=\"before remove pedestal\")\n",
    "plt.step(time, wav_after_remove_pedestal_module0[0, nr * 7:(nr + 1) * 7, 2:38][pixel], 'r-', label=\"after remove pedestal\")\n",
    "plt.plot([0, 40], [300, 300], 'g--', label=\"offset\")\n",
    "plt.ylim([200, 400])\n",
    "plt.legend()\n",
    "plt.grid(True)\n",
    "plt.show()"
   ]
  },
  {
   "cell_type": "code",
   "execution_count": 7,
   "metadata": {},
   "outputs": [
    {
     "name": "stdout",
     "output_type": "stream",
     "text": [
      "{'count': 5500,\n",
      " 'dl0': {'event_id': -1, 'obs_id': -1, 'tel': {}, 'tels_with_data': []},\n",
      " 'dl1': {'tel': {}},\n",
      " 'dl2': {'classification': {}, 'energy': {}, 'shower': {}},\n",
      " 'inst': {'subarray': SubarrayDescription(name='MonteCarloArray', num_tels=0)},\n",
      " 'lst': {'tel': {0: {'evt': {'cdts_data': array([0, 0, 0, 0, 0, 0, 0, 0, 0, 0, 0, 0, 0, 0, 0, 0, 0, 0, 0, 0, 0, 0,\n",
      "       0, 0, 0, 0, 0, 0, 0, 0, 0], dtype=uint8),\n",
      "                             'chips_flags': array([0, 0, 0, ..., 0, 0, 0], dtype=uint16),\n",
      "                             'configuration_id': 1,\n",
      "                             'counters': array([ 51,   0, 158, ...,   0,   0,   0], dtype=uint8),\n",
      "                             'drs_tag': array([2188, 2195, 2179, ..., 1961, 1985, 1975], dtype=uint16),\n",
      "                             'drs_tag_status': array([12, 12, 12, 12, 12, 12, 12, 12, 12, 12, 12, 12, 12, 12, 12, 12, 12,\n",
      "       12, 12, 12, 12, 12, 12, 12, 12, 12, 12, 12, 12, 12, 12, 12, 12, 12,\n",
      "       12, 12, 12, 12, 12, 12, 12, 12, 12, 12, 12, 12, 12, 12, 12, 12, 12,\n",
      "       12, 12, 12, 12, 12, 12, 12, 12, 12, 12, 12, 12, 12, 12, 12, 12, 12,\n",
      "       12, 12, 12, 12, 12, 12, 12, 12, 12, 12, 12, 12, 12, 12, 12, 12, 12,\n",
      "       12, 12, 12, 12, 12, 12, 12, 12, 12, 12, 12, 12, 12, 12, 12, 12, 12,\n",
      "       12, 12, 12, 12, 12, 12, 12, 12, 12, 12, 12, 12, 12, 12, 12, 12, 12,\n",
      "       12, 12, 12, 12, 12, 12, 12, 12, 12, 12, 12, 12, 12, 12, 12, 12, 12,\n",
      "       12, 12, 12, 12, 12, 12, 12, 12, 12, 12, 12, 12, 12, 12, 12, 12, 12,\n",
      "       12, 12, 12, 12, 12, 12, 12, 12, 12, 12, 12, 12, 12, 12, 12, 12, 12,\n",
      "       12, 12, 12, 12, 12, 12, 12, 12, 12, 12, 12, 12, 12, 12, 12, 12, 12,\n",
      "       12, 12, 12, 12, 12, 12, 12, 12, 12, 12, 12, 12, 12, 12, 12, 12, 12,\n",
      "       12, 12, 12, 12, 12, 12, 12, 12, 12, 12, 12, 12, 12, 12, 12, 12, 12,\n",
      "       12, 12, 12, 12, 12, 12, 12, 12, 12, 12, 12, 12, 12, 12, 12, 12, 12,\n",
      "       12, 12, 12, 12, 12, 12, 12, 12, 12, 12, 12, 12, 12, 12, 12, 12, 12,\n",
      "       12, 12, 12, 12, 12, 12, 12], dtype=uint8),\n",
      "                             'event_id': 5501,\n",
      "                             'extdevices_presence': 0,\n",
      "                             'first_capacitor_id': array([2741, 2742, 2746, ..., 2599, 2603, 2602], dtype=uint16),\n",
      "                             'module_status': array([1, 1, 1, 1, 1, 1, 1, 1, 1, 1, 1, 1, 1, 1, 1, 1, 1, 1, 1, 1, 1, 1,\n",
      "       1, 1, 1, 1, 1, 1, 1, 1, 1, 1, 1, 1, 1, 1, 1, 1, 1, 1, 1, 1, 1, 1,\n",
      "       1, 1, 1, 1, 1, 1, 1, 1, 1, 1, 1, 1, 1, 1, 1, 1, 1, 1, 1, 1, 1, 1,\n",
      "       1, 1, 1, 1, 1, 1, 1, 1, 1, 1, 1, 1, 1, 1, 1, 1, 1, 1, 1, 1, 1, 1,\n",
      "       1, 1, 1, 1, 1, 1, 1, 1, 1, 1, 1, 1, 1, 1, 1, 1, 1, 1, 1, 1, 1, 1,\n",
      "       1, 1, 1, 1, 1, 1, 1, 1, 1, 1, 1, 1, 1, 1, 1, 1, 1, 1, 1, 1, 1, 1,\n",
      "       1, 1, 1, 1, 1, 1, 1, 1, 1, 1, 1, 1, 1, 1, 1, 1, 1, 1, 1, 1, 1, 1,\n",
      "       1, 1, 1, 1, 1, 1, 1, 1, 1, 1, 1, 1, 1, 1, 1, 1, 1, 1, 1, 1, 1, 1,\n",
      "       1, 1, 1, 1, 1, 1, 1, 1, 1, 1, 1, 1, 1, 1, 1, 1, 1, 1, 1, 1, 1, 1,\n",
      "       1, 1, 1, 1, 1, 1, 1, 1, 1, 1, 1, 1, 1, 1, 1, 1, 1, 1, 1, 1, 1, 1,\n",
      "       1, 1, 1, 1, 1, 1, 1, 1, 1, 1, 1, 1, 1, 1, 1, 1, 1, 1, 1, 1, 1, 1,\n",
      "       1, 1, 1, 1, 1, 1, 1, 1, 1, 1, 1, 1, 1, 1, 1, 1, 1, 1, 1, 1],\n",
      "      dtype=uint8),\n",
      "                             'ped_id': 0,\n",
      "                             'pixel_status': array([12, 12, 12, ..., 12, 12, 12], dtype=uint8),\n",
      "                             'swat_data': array([0, 0, 0, 0, 0, 0, 0, 0, 0, 0, 0, 0, 0, 0, 0, 0, 0, 0, 0, 0, 0, 0,\n",
      "       0, 0, 0, 0, 0], dtype=uint8),\n",
      "                             'tel_event_id': 5501,\n",
      "                             'tib_data': array([0, 0, 0, 0, 0, 0, 0, 0, 0, 0, 0, 0], dtype=uint8)},\n",
      "                     'svc': {'algorithms': 0,\n",
      "                             'cdhs_version': '31751',\n",
      "                             'configuration_id': 1,\n",
      "                             'cs_serial': 'FH04MD2',\n",
      "                             'data_model_version': '1.0',\n",
      "                             'date': 1530806213,\n",
      "                             'idaq_version': '32305:32367',\n",
      "                             'module_ids': array([  0,   1,   2,   3,   4,   5,   6,   7,   8,   9,  10,  11,  12,\n",
      "        13,  14,  15,  16,  17,  18,  19,  20,  21,  22,  23,  24,  25,\n",
      "        26,  27,  28,  29,  30,  31,  32,  33,  34,  35,  36,  37,  38,\n",
      "        39,  40,  41,  42,  43,  44,  45,  46,  47,  48,  49,  50,  51,\n",
      "        52,  53,  54,  55,  56,  57,  58,  59,  60,  61,  62,  63,  64,\n",
      "        65,  66,  67,  68,  69,  70,  71,  72,  73,  74,  75,  76,  77,\n",
      "        78,  79,  80,  81,  82,  83,  84,  85,  86,  87,  88,  89,  90,\n",
      "        91,  92,  93,  94,  95,  96,  97,  98,  99, 100, 101, 102, 103,\n",
      "       104, 105, 106, 107, 108, 109, 110, 111, 112, 113, 114, 115, 116,\n",
      "       117, 118, 119, 120, 121, 122, 123, 124, 125, 126, 127, 128, 129,\n",
      "       130, 131, 132, 133, 134, 135, 136, 137, 138, 139, 140, 141, 142,\n",
      "       143, 144, 145, 146, 147, 148, 149, 150, 151, 152, 153, 154, 155,\n",
      "       156, 157, 158, 159, 160, 161, 162, 163, 164, 165, 166, 167, 168,\n",
      "       169, 170, 171, 172, 173, 174, 175, 176, 177, 178, 179, 180, 181,\n",
      "       182, 183, 184, 185, 186, 187, 188, 189, 190, 191, 192, 193, 194,\n",
      "       195, 196, 197, 198, 199, 200, 201, 202, 203, 204, 205, 206, 207,\n",
      "       208, 209, 210, 211, 212, 213, 214, 215, 216, 217, 218, 219, 220,\n",
      "       221, 222, 223, 224, 225, 226, 227, 228, 229, 230, 231, 232, 233,\n",
      "       234, 235, 236, 237, 238, 239, 240, 241, 242, 243, 244, 245, 246,\n",
      "       247, 248, 249, 250, 251, 252, 253, 254, 255, 256, 257, 258, 259,\n",
      "       260, 261], dtype=uint16),\n",
      "                             'num_modules': 262,\n",
      "                             'num_pixels': 1834,\n",
      "                             'num_samples': 40,\n",
      "                             'pixel_ids': array([4112, 4113, 4114, ..., 5452, 5453, 5454], dtype=uint16),\n",
      "                             'pre_proc_algorithms': 0,\n",
      "                             'telescope_id': 0}}},\n",
      "         'tels_with_data': [0]},\n",
      " 'mc': {'alt': 0.0,\n",
      "        'az': 0.0,\n",
      "        'core_x': 0.0,\n",
      "        'core_y': 0.0,\n",
      "        'energy': 0.0,\n",
      "        'h_first_int': 0.0,\n",
      "        'shower_primary_id': None,\n",
      "        'tel': {},\n",
      "        'x_max': 0.0},\n",
      " 'mcheader': {'run_array_direction': []},\n",
      " 'pointing': {},\n",
      " 'r0': {'event_id': 5501,\n",
      "        'obs_id': -1,\n",
      "        'tel': {0: {'image': None,\n",
      "                    'num_samples': 40,\n",
      "                    'num_trig_pix': 0,\n",
      "                    'trig_pix_id': None,\n",
      "                    'trigger_time': 0,\n",
      "                    'trigger_type': 0,\n",
      "                    'waveform': array([[[313, 323, 287, ..., 324, 310, 260],\n",
      "        [339, 343, 334, ..., 309, 333, 259],\n",
      "        [275, 283, 289, ..., 280, 287, 272],\n",
      "        ...,\n",
      "        [257, 284, 287, ..., 258, 259, 232],\n",
      "        [244, 261, 242, ..., 271, 267, 217],\n",
      "        [312, 319, 323, ..., 300, 302, 269]],\n",
      "\n",
      "       [[264, 270, 255, ..., 292, 326, 311],\n",
      "        [273, 315, 274, ..., 275, 290, 245],\n",
      "        [243, 226, 248, ..., 239, 271, 277],\n",
      "        ...,\n",
      "        [232, 186, 196, ..., 233, 233, 242],\n",
      "        [216, 217, 217, ..., 173, 253, 281],\n",
      "        [237, 209, 263, ..., 229, 249, 255]]], dtype=uint16)}},\n",
      "        'tels_with_data': [0]},\n",
      " 'r1': {'event_id': -1, 'obs_id': -1, 'tel': {}, 'tels_with_data': []},\n",
      " 'trig': {'gps_time': <class 'astropy.time.core.Time'>,\n",
      "          'tels_with_trigger': []}}\n"
     ]
    }
   ],
   "source": [
    "print(ev)"
   ]
  },
  {
   "cell_type": "code",
   "execution_count": 10,
   "metadata": {},
   "outputs": [
    {
     "name": "stdout",
     "output_type": "stream",
     "text": [
      "{'image': None,\n",
      " 'num_samples': 40,\n",
      " 'num_trig_pix': 0,\n",
      " 'trig_pix_id': None,\n",
      " 'trigger_time': 0,\n",
      " 'trigger_type': 0,\n",
      " 'waveform': array([[[313, 323, 287, ..., 324, 310, 260],\n",
      "        [339, 343, 334, ..., 309, 333, 259],\n",
      "        [275, 283, 289, ..., 280, 287, 272],\n",
      "        ...,\n",
      "        [257, 284, 287, ..., 258, 259, 232],\n",
      "        [244, 261, 242, ..., 271, 267, 217],\n",
      "        [312, 319, 323, ..., 300, 302, 269]],\n",
      "\n",
      "       [[264, 270, 255, ..., 292, 326, 311],\n",
      "        [273, 315, 274, ..., 275, 290, 245],\n",
      "        [243, 226, 248, ..., 239, 271, 277],\n",
      "        ...,\n",
      "        [232, 186, 196, ..., 233, 233, 242],\n",
      "        [216, 217, 217, ..., 173, 253, 281],\n",
      "        [237, 209, 263, ..., 229, 249, 255]]], dtype=uint16)}\n"
     ]
    }
   ],
   "source": [
    "print(ev.r0.tel[0])"
   ]
  },
  {
   "cell_type": "code",
   "execution_count": null,
   "metadata": {},
   "outputs": [],
   "source": []
  },
  {
   "cell_type": "markdown",
   "metadata": {},
   "source": [
    "# Calib"
   ]
  },
  {
   "cell_type": "code",
   "execution_count": 11,
   "metadata": {},
   "outputs": [],
   "source": [
    "import ctapipe\n",
    "from ctapipe.utils.datasets import get_dataset_path\n",
    "from ctapipe.io import event_source, EventSeeker\n",
    "from ctapipe.visualization import CameraDisplay\n",
    "from ctapipe.instrument import CameraGeometry\n",
    "from matplotlib import pyplot as plt\n",
    "from astropy import units as u\n",
    "import numpy as np\n",
    "%matplotlib inline\n",
    "plt.style.use(\"ggplot\")"
   ]
  },
  {
   "cell_type": "code",
   "execution_count": 12,
   "metadata": {},
   "outputs": [
    {
     "name": "stdout",
     "output_type": "stream",
     "text": [
      "408\n",
      "409\n"
     ]
    }
   ],
   "source": [
    "filename = get_dataset_path(\"gamma_test.simtel.gz\")\n",
    "source = event_source(filename, max_events=2)\n",
    "\n",
    "for event in source:\n",
    "    print(event.r0.event_id)\n"
   ]
  },
  {
   "cell_type": "code",
   "execution_count": null,
   "metadata": {},
   "outputs": [],
   "source": []
  },
  {
   "cell_type": "code",
   "execution_count": 16,
   "metadata": {},
   "outputs": [
    {
     "name": "stdout",
     "output_type": "stream",
     "text": [
      "defaultdict(<class 'ctapipe.io.containers.DL1CameraContainer'>, {})\n"
     ]
    }
   ],
   "source": [
    "print(event.dl1.tel)"
   ]
  },
  {
   "cell_type": "code",
   "execution_count": 24,
   "metadata": {},
   "outputs": [],
   "source": [
    "from ctapipe.calib import CameraCalibrator\n",
    "\n",
    "calib = CameraCalibrator(r1_product=\"HESSIOR1Calibrator\")\n",
    "calib.calibrate(event)"
   ]
  },
  {
   "cell_type": "code",
   "execution_count": 23,
   "metadata": {},
   "outputs": [
    {
     "name": "stdout",
     "output_type": "stream",
     "text": [
      "<ctapipe.calib.camera.calibrator.CameraCalibrator object at 0x7fee102fd5f8>\n"
     ]
    }
   ],
   "source": [
    "print(calib)"
   ]
  },
  {
   "cell_type": "code",
   "execution_count": 18,
   "metadata": {},
   "outputs": [
    {
     "name": "stdout",
     "output_type": "stream",
     "text": [
      "defaultdict(<class 'ctapipe.io.containers.DL1CameraContainer'>, {11: ctapipe.io.containers.DL1CameraContainer:\n",
      "                         image: np array of camera image, after waveform\n",
      "                                integration (N_pix)\n",
      "                  gain_channel: boolean numpy array of which gain channel was\n",
      "                                used for each pixel in the image\n",
      "             extracted_samples: numpy array of bools indicating which samples\n",
      "                                were included in the charge extraction as a\n",
      "                                result of the charge extractor chosen.\n",
      "                                Shape=(nchan, npix, nsamples).\n",
      "                       peakpos: numpy array containing position of the peak as\n",
      "                                determined by the peak-finding algorithm for\n",
      "                                each pixel\n",
      "                       cleaned: numpy array containing the waveform after\n",
      "                                cleaning, 21: ctapipe.io.containers.DL1CameraContainer:\n",
      "                         image: np array of camera image, after waveform\n",
      "                                integration (N_pix)\n",
      "                  gain_channel: boolean numpy array of which gain channel was\n",
      "                                used for each pixel in the image\n",
      "             extracted_samples: numpy array of bools indicating which samples\n",
      "                                were included in the charge extraction as a\n",
      "                                result of the charge extractor chosen.\n",
      "                                Shape=(nchan, npix, nsamples).\n",
      "                       peakpos: numpy array containing position of the peak as\n",
      "                                determined by the peak-finding algorithm for\n",
      "                                each pixel\n",
      "                       cleaned: numpy array containing the waveform after\n",
      "                                cleaning, 118: ctapipe.io.containers.DL1CameraContainer:\n",
      "                         image: np array of camera image, after waveform\n",
      "                                integration (N_pix)\n",
      "                  gain_channel: boolean numpy array of which gain channel was\n",
      "                                used for each pixel in the image\n",
      "             extracted_samples: numpy array of bools indicating which samples\n",
      "                                were included in the charge extraction as a\n",
      "                                result of the charge extractor chosen.\n",
      "                                Shape=(nchan, npix, nsamples).\n",
      "                       peakpos: numpy array containing position of the peak as\n",
      "                                determined by the peak-finding algorithm for\n",
      "                                each pixel\n",
      "                       cleaned: numpy array containing the waveform after\n",
      "                                cleaning, 119: ctapipe.io.containers.DL1CameraContainer:\n",
      "                         image: np array of camera image, after waveform\n",
      "                                integration (N_pix)\n",
      "                  gain_channel: boolean numpy array of which gain channel was\n",
      "                                used for each pixel in the image\n",
      "             extracted_samples: numpy array of bools indicating which samples\n",
      "                                were included in the charge extraction as a\n",
      "                                result of the charge extractor chosen.\n",
      "                                Shape=(nchan, npix, nsamples).\n",
      "                       peakpos: numpy array containing position of the peak as\n",
      "                                determined by the peak-finding algorithm for\n",
      "                                each pixel\n",
      "                       cleaned: numpy array containing the waveform after\n",
      "                                cleaning, 24: ctapipe.io.containers.DL1CameraContainer:\n",
      "                         image: np array of camera image, after waveform\n",
      "                                integration (N_pix)\n",
      "                  gain_channel: boolean numpy array of which gain channel was\n",
      "                                used for each pixel in the image\n",
      "             extracted_samples: numpy array of bools indicating which samples\n",
      "                                were included in the charge extraction as a\n",
      "                                result of the charge extractor chosen.\n",
      "                                Shape=(nchan, npix, nsamples).\n",
      "                       peakpos: numpy array containing position of the peak as\n",
      "                                determined by the peak-finding algorithm for\n",
      "                                each pixel\n",
      "                       cleaned: numpy array containing the waveform after\n",
      "                                cleaning, 26: ctapipe.io.containers.DL1CameraContainer:\n",
      "                         image: np array of camera image, after waveform\n",
      "                                integration (N_pix)\n",
      "                  gain_channel: boolean numpy array of which gain channel was\n",
      "                                used for each pixel in the image\n",
      "             extracted_samples: numpy array of bools indicating which samples\n",
      "                                were included in the charge extraction as a\n",
      "                                result of the charge extractor chosen.\n",
      "                                Shape=(nchan, npix, nsamples).\n",
      "                       peakpos: numpy array containing position of the peak as\n",
      "                                determined by the peak-finding algorithm for\n",
      "                                each pixel\n",
      "                       cleaned: numpy array containing the waveform after\n",
      "                                cleaning, 61: ctapipe.io.containers.DL1CameraContainer:\n",
      "                         image: np array of camera image, after waveform\n",
      "                                integration (N_pix)\n",
      "                  gain_channel: boolean numpy array of which gain channel was\n",
      "                                used for each pixel in the image\n",
      "             extracted_samples: numpy array of bools indicating which samples\n",
      "                                were included in the charge extraction as a\n",
      "                                result of the charge extractor chosen.\n",
      "                                Shape=(nchan, npix, nsamples).\n",
      "                       peakpos: numpy array containing position of the peak as\n",
      "                                determined by the peak-finding algorithm for\n",
      "                                each pixel\n",
      "                       cleaned: numpy array containing the waveform after\n",
      "                                cleaning, 63: ctapipe.io.containers.DL1CameraContainer:\n",
      "                         image: np array of camera image, after waveform\n",
      "                                integration (N_pix)\n",
      "                  gain_channel: boolean numpy array of which gain channel was\n",
      "                                used for each pixel in the image\n",
      "             extracted_samples: numpy array of bools indicating which samples\n",
      "                                were included in the charge extraction as a\n",
      "                                result of the charge extractor chosen.\n",
      "                                Shape=(nchan, npix, nsamples).\n",
      "                       peakpos: numpy array containing position of the peak as\n",
      "                                determined by the peak-finding algorithm for\n",
      "                                each pixel\n",
      "                       cleaned: numpy array containing the waveform after\n",
      "                                cleaning})\n"
     ]
    }
   ],
   "source": [
    "print(event.dl1.tel)\n"
   ]
  },
  {
   "cell_type": "code",
   "execution_count": 19,
   "metadata": {},
   "outputs": [
    {
     "name": "stdout",
     "output_type": "stream",
     "text": [
      "TEL011: MST:NectarCam\n",
      "  - r0  wave shape  : (1, 1855, 30)\n",
      "  - r1  wave shape  : (1, 1855, 30)\n",
      "  - dl1 image shape : (1, 1855)\n",
      "TEL021: MST:NectarCam\n",
      "  - r0  wave shape  : (1, 1855, 30)\n",
      "  - r1  wave shape  : (1, 1855, 30)\n",
      "  - dl1 image shape : (1, 1855)\n",
      "TEL118: MST-SCT:SCTCam\n",
      "  - r0  wave shape  : (1, 11328, 32)\n",
      "  - r1  wave shape  : (1, 11328, 32)\n",
      "  - dl1 image shape : (1, 11328)\n",
      "TEL119: MST-SCT:SCTCam\n",
      "  - r0  wave shape  : (1, 11328, 32)\n",
      "  - r1  wave shape  : (1, 11328, 32)\n",
      "  - dl1 image shape : (1, 11328)\n",
      "TEL024: MST:NectarCam\n",
      "  - r0  wave shape  : (1, 1855, 30)\n",
      "  - r1  wave shape  : (1, 1855, 30)\n",
      "  - dl1 image shape : (1, 1855)\n",
      "TEL026: MST:NectarCam\n",
      "  - r0  wave shape  : (1, 1855, 30)\n",
      "  - r1  wave shape  : (1, 1855, 30)\n",
      "  - dl1 image shape : (1, 1855)\n",
      "TEL061: SST-ASTRI:CHEC\n",
      "  - r0  wave shape  : (1, 2048, 25)\n",
      "  - r1  wave shape  : (1, 2048, 25)\n",
      "  - dl1 image shape : (1, 2048)\n",
      "TEL063: SST-ASTRI:CHEC\n",
      "  - r0  wave shape  : (1, 2048, 25)\n",
      "  - r1  wave shape  : (1, 2048, 25)\n",
      "  - dl1 image shape : (1, 2048)\n"
     ]
    }
   ],
   "source": [
    "for tel_id in event.dl1.tel:\n",
    "    print(\"TEL{:03}: {}\".format(tel_id, event.inst.subarray.tel[tel_id]))\n",
    "    print(\"  - r0  wave shape  : {}\".format(event.r0.tel[tel_id].waveform.shape))\n",
    "    print(\"  - r1  wave shape  : {}\".format(event.r1.tel[tel_id].waveform.shape))\n",
    "    print(\"  - dl1 image shape : {}\".format(event.dl1.tel[tel_id].image.shape))"
   ]
  },
  {
   "cell_type": "code",
   "execution_count": null,
   "metadata": {},
   "outputs": [],
   "source": []
  }
 ],
 "metadata": {
  "kernelspec": {
   "display_name": "Python 3",
   "language": "python",
   "name": "python3"
  },
  "language_info": {
   "codemirror_mode": {
    "name": "ipython",
    "version": 3
   },
   "file_extension": ".py",
   "mimetype": "text/x-python",
   "name": "python",
   "nbconvert_exporter": "python",
   "pygments_lexer": "ipython3",
   "version": "3.6.4"
  }
 },
 "nbformat": 4,
 "nbformat_minor": 2
}
